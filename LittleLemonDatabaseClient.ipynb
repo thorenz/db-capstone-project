{
 "cells": [
  {
   "cell_type": "code",
   "execution_count": 2,
   "id": "3eaf0b1f",
   "metadata": {},
   "outputs": [
    {
     "name": "stdout",
     "output_type": "stream",
     "text": [
      "Requirement already satisfied: mysql-connector-python in c:\\users\\lorenz torres\\lib\\site-packages (8.0.32)\n",
      "Requirement already satisfied: protobuf<=3.20.3,>=3.11.0 in c:\\users\\lorenz torres\\lib\\site-packages (from mysql-connector-python) (3.20.3)\n"
     ]
    },
    {
     "name": "stderr",
     "output_type": "stream",
     "text": [
      "\n",
      "[notice] A new release of pip available: 22.3.1 -> 23.0.1\n",
      "[notice] To update, run: C:\\Users\\Lorenz Torres\\python.exe -m pip install --upgrade pip\n"
     ]
    }
   ],
   "source": [
    "!pip install mysql-connector-python"
   ]
  },
  {
   "cell_type": "code",
   "execution_count": 24,
   "id": "84c7918c",
   "metadata": {},
   "outputs": [],
   "source": [
    "import mysql.connector as connector"
   ]
  },
  {
   "cell_type": "code",
   "execution_count": 25,
   "id": "7c380f7d",
   "metadata": {},
   "outputs": [],
   "source": [
    "connection = connector.connect(user = \"root\", password = \"Pudidisk@27\", db = \"littlelemondb\")"
   ]
  },
  {
   "cell_type": "code",
   "execution_count": 26,
   "id": "cdf21ba3",
   "metadata": {},
   "outputs": [],
   "source": [
    "cursor = connection.cursor()"
   ]
  },
  {
   "cell_type": "code",
   "execution_count": 27,
   "id": "973d0de7",
   "metadata": {},
   "outputs": [],
   "source": [
    "show_tables_query = \"\"\"show tables;\"\"\"\n",
    "cursor.execute(show_tables_query)\n",
    "results = cursor.fetchall()"
   ]
  },
  {
   "cell_type": "code",
   "execution_count": 28,
   "id": "b02daf81",
   "metadata": {},
   "outputs": [
    {
     "name": "stdout",
     "output_type": "stream",
     "text": [
      "[('bookings',), ('customers',), ('delivery',), ('menu',), ('menuitem',), ('orders',), ('ordersview',), ('staff',)]\n"
     ]
    }
   ],
   "source": [
    "print(results)"
   ]
  },
  {
   "cell_type": "code",
   "execution_count": 29,
   "id": "897d5a8f",
   "metadata": {},
   "outputs": [],
   "source": [
    "show_orders_above_60 = \"\"\"\n",
    "select c.CustomerName, c.ContactNo, o.TotalCost \n",
    "from customers as c\n",
    "INNER JOIN orders as o ON c.CustomerID = o.CustomerID\n",
    "where o.TotalCost > 60;\n",
    "\n",
    "\"\"\""
   ]
  },
  {
   "cell_type": "code",
   "execution_count": 30,
   "id": "7c086e58",
   "metadata": {},
   "outputs": [],
   "source": [
    "cursor.execute(show_orders_above_60)"
   ]
  },
  {
   "cell_type": "code",
   "execution_count": 31,
   "id": "481fe42a",
   "metadata": {},
   "outputs": [],
   "source": [
    "results = cursor.fetchall()"
   ]
  },
  {
   "cell_type": "code",
   "execution_count": 32,
   "id": "df31f6d2",
   "metadata": {},
   "outputs": [],
   "source": [
    "cols = cursor.column_names"
   ]
  },
  {
   "cell_type": "code",
   "execution_count": 33,
   "id": "b36bfbc9",
   "metadata": {},
   "outputs": [
    {
     "name": "stdout",
     "output_type": "stream",
     "text": [
      "('CustomerName', 'ContactNo', 'TotalCost')\n",
      "('Hanamichi Sakuragi', '09273648283', Decimal('525'))\n",
      "('Ryota Miyagi', '0927384723', Decimal('600'))\n",
      "('Haruko Akagi', '0847234232', Decimal('240'))\n",
      "('Kaede Rukawa', '09374923242', Decimal('525'))\n"
     ]
    }
   ],
   "source": [
    "print(cols)\n",
    "for result in results:\n",
    "    print(result)"
   ]
  },
  {
   "cell_type": "code",
   "execution_count": null,
   "id": "752e051c",
   "metadata": {},
   "outputs": [],
   "source": []
  }
 ],
 "metadata": {
  "kernelspec": {
   "display_name": "Python 3 (ipykernel)",
   "language": "python",
   "name": "python3"
  },
  "language_info": {
   "codemirror_mode": {
    "name": "ipython",
    "version": 3
   },
   "file_extension": ".py",
   "mimetype": "text/x-python",
   "name": "python",
   "nbconvert_exporter": "python",
   "pygments_lexer": "ipython3",
   "version": "3.11.2"
  }
 },
 "nbformat": 4,
 "nbformat_minor": 5
}
